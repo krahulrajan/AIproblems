{
 "cells": [
  {
   "cell_type": "code",
   "execution_count": 1,
   "id": "advisory-tunisia",
   "metadata": {},
   "outputs": [
    {
     "name": "stdout",
     "output_type": "stream",
     "text": [
      "[[0 0]\n",
      " [0 1]\n",
      " [1 0]\n",
      " [1 1]]\n",
      "[[0]\n",
      " [1]\n",
      " [1]\n",
      " [0]]\n"
     ]
    }
   ],
   "source": [
    "import numpy as np\n",
    "from matplotlib import pyplot as plt\n",
    "import pandas as pd\n",
    "train_x=np.array([[0,0],[0,1],[1,0],[1,1]])\n",
    "print(train_x)\n",
    "train_y=np.array([[0],[1],[1],[0]])\n",
    "print(train_y)"
   ]
  },
  {
   "cell_type": "code",
   "execution_count": 2,
   "id": "bronze-blade",
   "metadata": {},
   "outputs": [
    {
     "data": {
      "text/plain": [
       "<AxesSubplot:xlabel='x1', ylabel='x2'>"
      ]
     },
     "execution_count": 2,
     "metadata": {},
     "output_type": "execute_result"
    },
    {
     "data": {
      "image/png": "[encoded data removed]",
      "text/plain": [
       "<Figure size 432x288 with 1 Axes>"
      ]
     },
     "metadata": {},
     "output_type": "display_data"
    }
   ],
   "source": [
    "#plot xor data\n",
    "import seaborn as sns\n",
    "sns.set()\n",
    "data = pd.DataFrame(train_x, columns=['x1', 'x2'])\n",
    "data['xor'] = train_y\n",
    "sns.scatterplot(data=data, x='x1', y='x2', style='xor', hue='xor', s=100)"
   ]
  },
  {
   "cell_type": "code",
   "execution_count": 3,
   "id": "lyric-marshall",
   "metadata": {},
   "outputs": [],
   "source": [
    "#Create an activation function\n",
    "def sigmoid(x):\n",
    "    return 1/(1+np.exp(-x))\n",
    "\n",
    "#calculating derivative of sigmoid function\n",
    "def sigmoid_derivative(sigmoid_result):\n",
    "    return sigmoid_result * (1 - sigmoid_result)\n",
    "\n",
    "#error calculation\n",
    "def error(target, prediction):\n",
    "    return .5 * (target - prediction)**2\n",
    "\n",
    "#Derivative of error calculations\n",
    "def error_derivative(target, prediction):\n",
    "    return - target + prediction\n",
    "\n"
   ]
  },
  {
   "cell_type": "code",
   "execution_count": 4,
   "id": "dominican-letters",
   "metadata": {},
   "outputs": [
    {
     "name": "stdout",
     "output_type": "stream",
     "text": [
      "w_hidden [[0.35193007 0.70306032]\n",
      " [0.69594897 0.39329277]]\n",
      "b_hidden [[0.66078475 0.27653526]]\n",
      "w_output [[0.11711366]\n",
      " [0.2617724 ]]\n",
      "b_output [[0.1573279]]\n"
     ]
    }
   ],
   "source": [
    "#set number of nurons and initialize weight and bias\n",
    "\n",
    "n_nuron_input=2\n",
    "n_nuron_hidden=2\n",
    "n_nuron_output=1\n",
    "\n",
    "w_hidden = np.random.random(size=(n_nuron_input, n_nuron_hidden))\n",
    "print(\"w_hidden\",w_hidden)\n",
    "b_hidden = np.random.random(size=(1, n_nuron_hidden))\n",
    "print(\"b_hidden\",b_hidden)\n",
    "w_output = np.random.random(size=(n_nuron_hidden, n_nuron_output))\n",
    "print(\"w_output\",w_output)\n",
    "b_output = np.random.random(size=(1, n_nuron_output))\n",
    "print(\"b_output\",b_output)"
   ]
  },
  {
   "cell_type": "code",
   "execution_count": 6,
   "id": "essential-bracelet",
   "metadata": {},
   "outputs": [],
   "source": [
    "alpha = 0.02\n",
    "errors = []\n",
    "params = []\n",
    "grads = []\n",
    "while True:\n",
    "    # forward prop\n",
    "    y_hidden = sigmoid(np.dot(train_x, w_hidden) + b_hidden)\n",
    "    y_output = sigmoid(np.dot(y_hidden, w_output) + b_output)\n",
    "\n",
    "    # calculate mean error of all the errors for this epoch\n",
    "    e = error(train_y, y_output).mean()\n",
    "    if e < 1e-4:\n",
    "        break\n",
    "\n",
    "    # back prop\n",
    "    grad_output = error_derivative(train_y, y_output) * sigmoid_derivative(y_output)\n",
    "    grad_hidden = grad_output.dot(w_output.T) * sigmoid_derivative(y_hidden)\n",
    "\n",
    "    # update parameters\n",
    "    w_output -= alpha * y_hidden.T.dot(grad_output)\n",
    "    w_hidden -= alpha * train_x.T.dot(grad_hidden)\n",
    "\n",
    "    b_output -= alpha * np.sum(grad_output)\n",
    "    b_hidden -= alpha * np.sum(grad_hidden)\n",
    "\n",
    "    # record intermediate results\n",
    "    errors.append(e)\n",
    "    grads.append(np.concatenate((grad_output.reshap, grad_hidden.ravel())))\n",
    "    params.append(np.concatenate((w_output.ravel(), b_output.ravel(),\n",
    "                                  w_hidden.ravel(), b_hidden.ravel())))\n",
    "\n",
    "#print(\"Errors :\\n\",errors)\n",
    "#print(\"Gradients :\\n\",grads)\n",
    "#print(\"Parameters :\\n\",params)"
   ]
  },
  {
   "cell_type": "code",
   "execution_count": 7,
   "id": "moved-boulder",
   "metadata": {},
   "outputs": [
    {
     "data": {
      "text/plain": [
       "array([[0.01506288],\n",
       "       [0.98652634],\n",
       "       [0.98652527],\n",
       "       [0.01449142]])"
      ]
     },
     "execution_count": 7,
     "metadata": {},
     "output_type": "execute_result"
    }
   ],
   "source": [
    "def predict(x):\n",
    "    y_hidden = sigmoid(np.dot(x, w_hidden) + b_hidden)\n",
    "    return sigmoid(np.dot(y_hidden, w_output) + b_output)\n",
    "predict(train_x)"
   ]
  },
  {
   "cell_type": "code",
   "execution_count": null,
   "id": "municipal-three",
   "metadata": {},
   "outputs": [],
   "source": []
  }
 ],
 "metadata": {
  "kernelspec": {
   "display_name": "Python 3",
   "language": "python",
   "name": "python3"
  },
  "language_info": {
   "codemirror_mode": {
    "name": "ipython",
    "version": 3
   },
   "file_extension": ".py",
   "mimetype": "text/x-python",
   "name": "python",
   "nbconvert_exporter": "python",
   "pygments_lexer": "ipython3",
   "version": "3.7.9"
  }
 },
 "nbformat": 4,
 "nbformat_minor": 5
}
